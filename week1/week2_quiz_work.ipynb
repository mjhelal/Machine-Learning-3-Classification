{
 "cells": [
  {
   "cell_type": "code",
   "execution_count": 8,
   "metadata": {},
   "outputs": [
    {
     "name": "stdout",
     "output_type": "stream",
     "text": [
      "0.23076514147414118\n"
     ]
    }
   ],
   "source": [
    "import math\n",
    "likelihood = 1\n",
    "y = [1,-1,1,1]\n",
    "for i,score in enumerate([2.5,0.3,2.8,0.5]):\n",
    "    if y[i] == 1:\n",
    "        likelihood = likelihood *(1/(1+math.exp(-score)))\n",
    "    if y[i] == -1:\n",
    "        likelihood = likelihood *(1-(1/(1+math.exp(-score))))\n",
    "print(likelihood)"
   ]
  },
  {
   "cell_type": "code",
   "execution_count": 16,
   "metadata": {},
   "outputs": [
    {
     "data": {
      "text/plain": [
       "array([0.92414182, 0.57444252, 0.94267582, 0.62245933])"
      ]
     },
     "execution_count": 16,
     "metadata": {},
     "output_type": "execute_result"
    }
   ],
   "source": [
    "import numpy as np\n",
    "proba = np.zeros(4)\n",
    "y = [1,-1,1,1]\n",
    "for i,score in enumerate([2.5,0.3,2.8,0.5]):\n",
    "        proba [i] = (1/(1+math.exp(-score)))\n",
    "proba"
   ]
  },
  {
   "cell_type": "code",
   "execution_count": 17,
   "metadata": {},
   "outputs": [],
   "source": [
    "x=[2.5,0.3,2.8,0.5]\n",
    "y1 = [1,0,1,1]\n",
    "vector = y1-proba\n",
    "result = np.dot(vector,x)"
   ]
  },
  {
   "cell_type": "code",
   "execution_count": 18,
   "metadata": {},
   "outputs": [
    {
     "data": {
      "text/plain": [
       "0.36659072192551606"
      ]
     },
     "execution_count": 18,
     "metadata": {},
     "output_type": "execute_result"
    }
   ],
   "source": [
    "result"
   ]
  },
  {
   "cell_type": "code",
   "execution_count": null,
   "metadata": {},
   "outputs": [],
   "source": []
  }
 ],
 "metadata": {
  "kernelspec": {
   "display_name": "Python 3",
   "language": "python",
   "name": "python3"
  },
  "language_info": {
   "codemirror_mode": {
    "name": "ipython",
    "version": 3
   },
   "file_extension": ".py",
   "mimetype": "text/x-python",
   "name": "python",
   "nbconvert_exporter": "python",
   "pygments_lexer": "ipython3",
   "version": "3.7.4"
  }
 },
 "nbformat": 4,
 "nbformat_minor": 2
}
